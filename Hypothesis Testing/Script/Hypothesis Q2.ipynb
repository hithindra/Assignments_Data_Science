{
 "cells": [
  {
   "cell_type": "markdown",
   "id": "b40d2916",
   "metadata": {},
   "source": [
    "A hospital wants to determine whether there is any difference in the average Turn Around Time (TAT) of reports of the laboratories on their preferred list. They collected a random sample and recorded TAT for reports of 4 laboratories. TAT is defined as sample collected to report dispatch.\n",
    "   \n",
    "Analyze the data and determine whether there is any difference in average TAT among the different laboratories at 5% significance level.\n"
   ]
  },
  {
   "cell_type": "code",
   "execution_count": 1,
   "id": "e6470a94",
   "metadata": {},
   "outputs": [],
   "source": [
    "import pandas as pd\n",
    "import scipy \n",
    "import numpy as np\n",
    "from scipy import stats"
   ]
  },
  {
   "cell_type": "code",
   "execution_count": 2,
   "id": "84a014d4",
   "metadata": {},
   "outputs": [],
   "source": [
    "data=pd.read_csv(\"C:\\ExcelR\\Data Scientist\\Hypothesis Testing\\LabTAT.csv\")"
   ]
  },
  {
   "cell_type": "code",
   "execution_count": 3,
   "id": "41563c64",
   "metadata": {},
   "outputs": [
    {
     "data": {
      "text/html": [
       "<div>\n",
       "<style scoped>\n",
       "    .dataframe tbody tr th:only-of-type {\n",
       "        vertical-align: middle;\n",
       "    }\n",
       "\n",
       "    .dataframe tbody tr th {\n",
       "        vertical-align: top;\n",
       "    }\n",
       "\n",
       "    .dataframe thead th {\n",
       "        text-align: right;\n",
       "    }\n",
       "</style>\n",
       "<table border=\"1\" class=\"dataframe\">\n",
       "  <thead>\n",
       "    <tr style=\"text-align: right;\">\n",
       "      <th></th>\n",
       "      <th>Laboratory1</th>\n",
       "      <th>Laboratory2</th>\n",
       "      <th>Laboratory3</th>\n",
       "      <th>Laboratory4</th>\n",
       "    </tr>\n",
       "  </thead>\n",
       "  <tbody>\n",
       "    <tr>\n",
       "      <th>0</th>\n",
       "      <td>185.35</td>\n",
       "      <td>165.53</td>\n",
       "      <td>176.70</td>\n",
       "      <td>166.13</td>\n",
       "    </tr>\n",
       "    <tr>\n",
       "      <th>1</th>\n",
       "      <td>170.49</td>\n",
       "      <td>185.91</td>\n",
       "      <td>198.45</td>\n",
       "      <td>160.79</td>\n",
       "    </tr>\n",
       "    <tr>\n",
       "      <th>2</th>\n",
       "      <td>192.77</td>\n",
       "      <td>194.92</td>\n",
       "      <td>201.23</td>\n",
       "      <td>185.18</td>\n",
       "    </tr>\n",
       "    <tr>\n",
       "      <th>3</th>\n",
       "      <td>177.33</td>\n",
       "      <td>183.00</td>\n",
       "      <td>199.61</td>\n",
       "      <td>176.42</td>\n",
       "    </tr>\n",
       "    <tr>\n",
       "      <th>4</th>\n",
       "      <td>193.41</td>\n",
       "      <td>169.57</td>\n",
       "      <td>204.63</td>\n",
       "      <td>152.60</td>\n",
       "    </tr>\n",
       "  </tbody>\n",
       "</table>\n",
       "</div>"
      ],
      "text/plain": [
       "   Laboratory1  Laboratory2  Laboratory3  Laboratory4\n",
       "0       185.35       165.53       176.70       166.13\n",
       "1       170.49       185.91       198.45       160.79\n",
       "2       192.77       194.92       201.23       185.18\n",
       "3       177.33       183.00       199.61       176.42\n",
       "4       193.41       169.57       204.63       152.60"
      ]
     },
     "execution_count": 3,
     "metadata": {},
     "output_type": "execute_result"
    }
   ],
   "source": [
    "data.head()"
   ]
  },
  {
   "cell_type": "code",
   "execution_count": 4,
   "id": "c88f32eb",
   "metadata": {},
   "outputs": [
    {
     "name": "stdout",
     "output_type": "stream",
     "text": [
      "Laboratory1 Mean =  178.36158333333339\n",
      "Laboratory2 Mean =  178.9029166666668\n",
      "Laboratory3 Mean =  199.91325000000003\n",
      "Laboratory4 Mean =  163.6827499999999\n"
     ]
    }
   ],
   "source": [
    "Laboratory_1=data['Laboratory1'].mean()\n",
    "Laboratory_2=data['Laboratory2'].mean()\n",
    "Laboratory_3=data['Laboratory3'].mean()\n",
    "Laboratory_4=data['Laboratory4'].mean()\n",
    "\n",
    "print('Laboratory1 Mean = ',Laboratory_1)\n",
    "print('Laboratory2 Mean = ',Laboratory_2)\n",
    "print('Laboratory3 Mean = ',Laboratory_3)\n",
    "print('Laboratory4 Mean = ',Laboratory_4)"
   ]
  },
  {
   "cell_type": "markdown",
   "id": "86339076",
   "metadata": {},
   "source": [
    "Null Hypothesis= H0:μ1=μ2=μ3=μ4=μ5\n",
    "Alternative Hypothesis= H1:μ1≠μ2≠μ3≠μ4"
   ]
  },
  {
   "cell_type": "code",
   "execution_count": 5,
   "id": "5512cf86",
   "metadata": {},
   "outputs": [
    {
     "name": "stdout",
     "output_type": "stream",
     "text": [
      "Laboratory_1 > Laboratory_2 =  False\n",
      "Laboratory_2 > Laboratory_3 =  False\n",
      "Laboratory_3 > Laboratory_4 =  True\n",
      "Laboratory_4 > Laboratory_1 =  False\n"
     ]
    }
   ],
   "source": [
    "print('Laboratory_1 > Laboratory_2 = ',Laboratory_1 > Laboratory_2)\n",
    "print('Laboratory_2 > Laboratory_3 = ',Laboratory_2 > Laboratory_3)\n",
    "print('Laboratory_3 > Laboratory_4 = ',Laboratory_3 > Laboratory_4)\n",
    "print('Laboratory_4 > Laboratory_1 = ',Laboratory_4 > Laboratory_1)"
   ]
  },
  {
   "cell_type": "code",
   "execution_count": 6,
   "id": "2fa707a4",
   "metadata": {},
   "outputs": [
    {
     "name": "stdout",
     "output_type": "stream",
     "text": [
      "     Laboratory1\n",
      "0         185.35\n",
      "1         170.49\n",
      "2         192.77\n",
      "3         177.33\n",
      "4         193.41\n",
      "..           ...\n",
      "115       178.49\n",
      "116       176.08\n",
      "117       202.48\n",
      "118       182.40\n",
      "119       182.09\n",
      "\n",
      "[120 rows x 1 columns]      Laboratory1\n",
      "0         185.35\n",
      "1         170.49\n",
      "2         192.77\n",
      "3         177.33\n",
      "4         193.41\n",
      "..           ...\n",
      "115       178.49\n",
      "116       176.08\n",
      "117       202.48\n",
      "118       182.40\n",
      "119       182.09\n",
      "\n",
      "[120 rows x 1 columns]      Laboratory3\n",
      "0         176.70\n",
      "1         198.45\n",
      "2         201.23\n",
      "3         199.61\n",
      "4         204.63\n",
      "..           ...\n",
      "115       193.80\n",
      "116       215.25\n",
      "117       203.99\n",
      "118       194.52\n",
      "119       221.49\n",
      "\n",
      "[120 rows x 1 columns]      Laboratory4\n",
      "0         166.13\n",
      "1         160.79\n",
      "2         185.18\n",
      "3         176.42\n",
      "4         152.60\n",
      "..           ...\n",
      "115       172.68\n",
      "116       177.64\n",
      "117       170.27\n",
      "118       150.87\n",
      "119       162.21\n",
      "\n",
      "[120 rows x 1 columns]\n"
     ]
    }
   ],
   "source": [
    "alpha=0.05\n",
    "Lab1=pd.DataFrame(data['Laboratory1'])\n",
    "Lab2=pd.DataFrame(data['Laboratory2'])\n",
    "Lab3=pd.DataFrame(data['Laboratory3'])\n",
    "Lab4=pd.DataFrame(data['Laboratory4'])\n",
    "print(Lab1,Lab1,Lab3,Lab4)"
   ]
  },
  {
   "cell_type": "code",
   "execution_count": 7,
   "id": "b679a0a8",
   "metadata": {},
   "outputs": [
    {
     "name": "stdout",
     "output_type": "stream",
     "text": [
      "P-Value:[2.11567089e-57] T-Statistic:[118.70421654]\n"
     ]
    }
   ],
   "source": [
    "tStat, pValue = stats.f_oneway(Lab1,Lab2,Lab3,Lab4)\n",
    "print(\"P-Value:{0} T-Statistic:{1}\".format(pValue,tStat))"
   ]
  },
  {
   "cell_type": "code",
   "execution_count": 8,
   "id": "8930c7db",
   "metadata": {},
   "outputs": [
    {
     "name": "stdout",
     "output_type": "stream",
     "text": [
      "we reject null hypothesis\n"
     ]
    }
   ],
   "source": [
    "if pValue < 0.05:\n",
    "  print('we reject null hypothesis')\n",
    "else:\n",
    "  print('we accept null hypothesis')"
   ]
  },
  {
   "cell_type": "markdown",
   "id": "53a8023e",
   "metadata": {},
   "source": [
    "Inference is that there no significant difference in the average TAT for all the labs."
   ]
  },
  {
   "cell_type": "code",
   "execution_count": null,
   "id": "7ed34e4a",
   "metadata": {},
   "outputs": [],
   "source": []
  }
 ],
 "metadata": {
  "kernelspec": {
   "display_name": "Python 3 (ipykernel)",
   "language": "python",
   "name": "python3"
  },
  "language_info": {
   "codemirror_mode": {
    "name": "ipython",
    "version": 3
   },
   "file_extension": ".py",
   "mimetype": "text/x-python",
   "name": "python",
   "nbconvert_exporter": "python",
   "pygments_lexer": "ipython3",
   "version": "3.9.7"
  }
 },
 "nbformat": 4,
 "nbformat_minor": 5
}
